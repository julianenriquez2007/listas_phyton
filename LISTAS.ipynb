{
 "cells": [
  {
   "cell_type": "markdown",
   "metadata": {},
   "source": [
    "# Listas en Python \n",
    "## Ejercicio 1: Crear una lista de 5 elementos y mostrarla por pantalla\n"
   ]
  },
  {
   "cell_type": "code",
   "execution_count": 66,
   "metadata": {},
   "outputs": [
    {
     "name": "stdout",
     "output_type": "stream",
     "text": [
      "['Lapiz', 'cuaderno', 'borrador', 'libro', 500]\n"
     ]
    }
   ],
   "source": [
    "pedro = [\"Lapiz\",\"cuaderno\",\"borrador\",\"libro\",500]\n",
    "print(pedro)"
   ]
  },
  {
   "cell_type": "markdown",
   "metadata": {},
   "source": [
    "## Ejercicio 2: Muestre la cantidad de elementos de la lista creada previamente "
   ]
  },
  {
   "cell_type": "code",
   "execution_count": 67,
   "metadata": {},
   "outputs": [
    {
     "data": {
      "text/plain": [
       "5"
      ]
     },
     "execution_count": 67,
     "metadata": {},
     "output_type": "execute_result"
    }
   ],
   "source": [
    "len(pedro)"
   ]
  },
  {
   "cell_type": "markdown",
   "metadata": {},
   "source": [
    "## Ejercicio 3: Mostrar los elementos 0, 2 y 4 "
   ]
  },
  {
   "cell_type": "code",
   "execution_count": 68,
   "metadata": {},
   "outputs": [
    {
     "name": "stdout",
     "output_type": "stream",
     "text": [
      "El elemento 0 es: ¨Lapiz\n",
      "El elemento 2 es: borrador\n",
      "El elemento 4 es: ¨500\n"
     ]
    }
   ],
   "source": [
    "print(f\"El elemento 0 es: ¨{pedro[0]}\")\n",
    "print(f\"El elemento 2 es: {pedro[2]}\")\n",
    "print(f\"El elemento 4 es: ¨{pedro[4]}\")"
   ]
  },
  {
   "cell_type": "markdown",
   "metadata": {},
   "source": [
    "## Ejercicio 4 : Agrega un elemento a la lista Pedro"
   ]
  },
  {
   "cell_type": "code",
   "execution_count": 69,
   "metadata": {},
   "outputs": [
    {
     "name": "stdout",
     "output_type": "stream",
     "text": [
      "El ultimo elemento de la lista es Pluma\n"
     ]
    }
   ],
   "source": [
    "pedro.append(\"Pluma\")\n",
    "print(f\"El ultimo elemento de la lista es {pedro[-1]}\")"
   ]
  },
  {
   "cell_type": "markdown",
   "metadata": {},
   "source": [
    "## Ejercicio 5. Cambia el elemento numero 2 de la lista pedro por Manzana, e imprima la lista completa"
   ]
  },
  {
   "cell_type": "code",
   "execution_count": 70,
   "metadata": {},
   "outputs": [
    {
     "name": "stdout",
     "output_type": "stream",
     "text": [
      "El elemento 1 era cuadernoy ahora es: ['Lapiz', 'Manzana', 'borrador', 'libro', 500, 'Pluma']\n",
      "la lista ahora es: ['Lapiz', 'Manzana', 'borrador', 'libro', 500, 'Pluma']\n"
     ]
    }
   ],
   "source": [
    "a = pedro[1]\n",
    "pedro[1]= \"Manzana\"\n",
    "print(f\"El elemento 1 era {a}y ahora es: {pedro}\\nla lista ahora es: {pedro}\")"
   ]
  },
  {
   "cell_type": "markdown",
   "metadata": {},
   "source": [
    "# Tarea 1 crea una lista con los numeros del 1 al 10"
   ]
  },
  {
   "cell_type": "code",
   "execution_count": 71,
   "metadata": {},
   "outputs": [
    {
     "name": "stdout",
     "output_type": "stream",
     "text": [
      "[1, 2, 3, 4, 5, 6, 7, 8, 9, 10]\n"
     ]
    }
   ],
   "source": [
    "numeros = [1,2,3,4,5,6,7,8,9,10]\n",
    "print(numeros)\n"
   ]
  },
  {
   "cell_type": "markdown",
   "metadata": {},
   "source": [
    "# TAREA 2 Duplicar los elementos de la lista numeros y agregalos al final de la lista"
   ]
  },
  {
   "cell_type": "code",
   "execution_count": 72,
   "metadata": {},
   "outputs": [
    {
     "name": "stdout",
     "output_type": "stream",
     "text": [
      "[1, 2, 3, 4, 5, 6, 7, 8, 9, 10, 2, 4, 6, 8, 10, 12, 14, 16, 18, 20, 4, 8]\n"
     ]
    }
   ],
   "source": [
    "numeros.append(numeros[0] * 2)\n",
    "numeros.append(numeros[1] * 2)\n",
    "numeros.append(numeros[2] * 2)\n",
    "numeros.append(numeros[3] * 2)\n",
    "numeros.append(numeros[4] * 2)\n",
    "numeros.append(numeros[5] * 2)\n",
    "numeros.append(numeros[6] * 2)\n",
    "numeros.append(numeros[7] * 2)\n",
    "numeros.append(numeros[8] * 2)\n",
    "numeros.append(numeros[9] * 2)\n",
    "numeros.append(numeros[10] * 2)\n",
    "numeros.append(numeros[11] * 2)\n",
    "print(numeros)\n",
    "\n"
   ]
  },
  {
   "cell_type": "markdown",
   "metadata": {},
   "source": [
    "# Ejercicio 6. Elimina elementos de la lista numeros"
   ]
  },
  {
   "cell_type": "code",
   "execution_count": 73,
   "metadata": {},
   "outputs": [
    {
     "name": "stdout",
     "output_type": "stream",
     "text": [
      "[1, 3, 4, 5, 6, 7, 8, 9, 10, 2, 4, 6, 8, 10, 12, 14, 16, 18, 20, 4, 8]\n"
     ]
    }
   ],
   "source": [
    "# Eliminar un valor de la lista, eliminar el 2\n",
    "numeros.remove(2)\n",
    "print(numeros)\n"
   ]
  },
  {
   "cell_type": "code",
   "execution_count": 74,
   "metadata": {},
   "outputs": [
    {
     "name": "stdout",
     "output_type": "stream",
     "text": [
      "[1, 3, 4, 6, 7, 8, 9, 10, 2, 4, 6, 8, 10, 12, 14, 16, 18, 20, 4, 8]\n"
     ]
    }
   ],
   "source": [
    "# Eliminar el valor de la posicion \n",
    "numeros.pop(3)\n",
    "print(numeros)"
   ]
  },
  {
   "cell_type": "code",
   "execution_count": 75,
   "metadata": {},
   "outputs": [
    {
     "name": "stdout",
     "output_type": "stream",
     "text": [
      "[1, 3, 4, 6, 7, 8, 9, 10, 2, 4, 6, 8, 10, 12, 14, 16, 18, 20, 4]\n"
     ]
    }
   ],
   "source": [
    "# Eliminar el ultimo valor de la lista, sin usar el metodo pop\n",
    "numeros = numeros[:-1]\n",
    "print (numeros)"
   ]
  },
  {
   "cell_type": "code",
   "execution_count": 77,
   "metadata": {},
   "outputs": [
    {
     "name": "stdout",
     "output_type": "stream",
     "text": [
      "La lista numeros contiene:(numeros)\n",
      "La lista pedro contiene: []\n"
     ]
    }
   ],
   "source": [
    "# vaciar las listas numeros y pedro\n",
    "numeros.clear()\n",
    "pedro.clear()\n",
    "print(f\"La lista numeros contiene:(numeros)\")\n",
    "print(f\"La lista pedro contiene: {pedro}\")\n"
   ]
  }
 ],
 "metadata": {
  "kernelspec": {
   "display_name": "Python 3",
   "language": "python",
   "name": "python3"
  },
  "language_info": {
   "codemirror_mode": {
    "name": "ipython",
    "version": 3
   },
   "file_extension": ".py",
   "mimetype": "text/x-python",
   "name": "python",
   "nbconvert_exporter": "python",
   "pygments_lexer": "ipython3",
   "version": "3.13.2"
  }
 },
 "nbformat": 4,
 "nbformat_minor": 2
}
